{
 "cells": [
  {
   "cell_type": "markdown",
   "id": "aa0ed216",
   "metadata": {},
   "source": [
    "## Descarga de excels del sitio web"
   ]
  },
  {
   "cell_type": "code",
   "execution_count": 1,
   "id": "c5773af7",
   "metadata": {},
   "outputs": [
    {
     "name": "stdout",
     "output_type": "stream",
     "text": [
      "Requirement already satisfied: requests in c:\\users\\maili\\appdata\\local\\programs\\python\\python313\\lib\\site-packages (2.32.4)\n",
      "Requirement already satisfied: charset_normalizer<4,>=2 in c:\\users\\maili\\appdata\\local\\programs\\python\\python313\\lib\\site-packages (from requests) (3.4.2)\n",
      "Requirement already satisfied: idna<4,>=2.5 in c:\\users\\maili\\appdata\\local\\programs\\python\\python313\\lib\\site-packages (from requests) (3.10)\n",
      "Requirement already satisfied: urllib3<3,>=1.21.1 in c:\\users\\maili\\appdata\\local\\programs\\python\\python313\\lib\\site-packages (from requests) (2.5.0)\n",
      "Requirement already satisfied: certifi>=2017.4.17 in c:\\users\\maili\\appdata\\local\\programs\\python\\python313\\lib\\site-packages (from requests) (2025.6.15)\n",
      "Requirement already satisfied: beautifulsoup4 in c:\\users\\maili\\appdata\\local\\programs\\python\\python313\\lib\\site-packages (4.13.4)\n",
      "Requirement already satisfied: soupsieve>1.2 in c:\\users\\maili\\appdata\\local\\programs\\python\\python313\\lib\\site-packages (from beautifulsoup4) (2.7)\n",
      "Requirement already satisfied: typing-extensions>=4.0.0 in c:\\users\\maili\\appdata\\local\\programs\\python\\python313\\lib\\site-packages (from beautifulsoup4) (4.14.1)\n",
      "Requirement already satisfied: openpyxl in c:\\users\\maili\\appdata\\local\\programs\\python\\python313\\lib\\site-packages (3.1.5)\n",
      "Requirement already satisfied: et-xmlfile in c:\\users\\maili\\appdata\\local\\programs\\python\\python313\\lib\\site-packages (from openpyxl) (2.0.0)\n",
      "Requirement already satisfied: xlrd in c:\\users\\maili\\appdata\\local\\programs\\python\\python313\\lib\\site-packages (2.0.2)\n"
     ]
    }
   ],
   "source": [
    "!pip install requests\n",
    "!pip install beautifulsoup4\n",
    "!pip install openpyxl\n",
    "!pip install xlrd"
   ]
  },
  {
   "cell_type": "code",
   "execution_count": 1,
   "id": "55fb7968",
   "metadata": {},
   "outputs": [
    {
     "name": "stdout",
     "output_type": "stream",
     "text": [
      "Descargando: https://www.mites.gob.es/estadisticas/EAL/EAL2023/Tablas_EAL_2023.xlsx\n",
      "Descargando: https://www.mites.gob.es/estadisticas/EAL/EAL2022/Tablas_EAL_2022.xlsx\n",
      "Descargando: https://www.mites.gob.es/estadisticas/EAL/EAL2021/TABLAS_EAL_2021.xlsx\n",
      "Descargando: https://www.mites.gob.es/estadisticas/EAL/EAL2020/TABLAS_EAL_2020.xls\n",
      "Descargando: https://www.mites.gob.es/estadisticas/EAL/EAL2019/TABLAS_EAL_2019.xls\n",
      "Descargando: https://www.mites.gob.es/estadisticas/EAL/EAL2018/TABLAS_EAL_2018.xls\n",
      "Descargando: https://www.mites.gob.es/estadisticas/EAL/EAL2017/TABLAS_EAL_2017.xls\n",
      "Descargando: https://www.mites.gob.es/estadisticas/EAL/EAL2016/TABLAS_EAL_2016.xls\n",
      "Descargando: https://www.mites.gob.es/estadisticas/EAL/EAL2015/TABLAS_EAL_2015.xls\n",
      "Descargando: https://www.mites.gob.es/estadisticas/EAL/EAL2014/TABLAS_EAL_2014.xls\n",
      "Descargando: https://www.mites.gob.es/estadisticas/EAL/EAL2013/TABLAS_EAL_2013.xls\n",
      "✅ Descarga completada. Archivos guardados en: C:\\Users\\maili\\Escritorio\\excels_EAL\n"
     ]
    }
   ],
   "source": [
    "import os\n",
    "import requests\n",
    "from bs4 import BeautifulSoup\n",
    "from urllib.parse import urljoin\n",
    "from pathlib import Path\n",
    "\n",
    "#URL base de la página\n",
    "url_base = \"https://www.mites.gob.es/es/estadisticas/mercado_trabajo/EAL/welcome.htm\"\n",
    "\n",
    "#Ruta al escritorio del usuario\n",
    "escritorio = Path.home() / \"Escritorio\"  # Funciona en Windows, macOS y Linux\n",
    "\n",
    "#Carpeta destino dentro del escritorio\n",
    "carpeta_destino = escritorio / \"excels_EAL\"\n",
    "carpeta_destino.mkdir(parents=True, exist_ok=True)\n",
    "\n",
    "#Obtener HTML de la página\n",
    "response = requests.get(url_base)\n",
    "response.encoding = 'utf-8'\n",
    "soup = BeautifulSoup(response.text, 'html.parser')\n",
    "\n",
    "#Buscar todos los enlaces a archivos Excel\n",
    "excel_links = []\n",
    "for link in soup.find_all('a', href=True):\n",
    "    href = link['href']\n",
    "    if href.endswith('.xls') or href.endswith('.xlsx'):\n",
    "        full_url = urljoin(url_base, href)\n",
    "        excel_links.append(full_url)\n",
    "\n",
    "#Descargar cada Excel\n",
    "for url in excel_links:\n",
    "    filename = carpeta_destino / os.path.basename(url)\n",
    "    print(f\"Descargando: {url}\")\n",
    "    with requests.get(url, stream=True) as r:\n",
    "        with open(filename, 'wb') as f:\n",
    "            for chunk in r.iter_content(chunk_size=8192):\n",
    "                f.write(chunk)\n",
    "\n",
    "print(f\"✅ Descarga completada. Archivos guardados en: {carpeta_destino}\")\n"
   ]
  }
 ],
 "metadata": {
  "kernelspec": {
   "display_name": "Python 3",
   "language": "python",
   "name": "python3"
  },
  "language_info": {
   "codemirror_mode": {
    "name": "ipython",
    "version": 3
   },
   "file_extension": ".py",
   "mimetype": "text/x-python",
   "name": "python",
   "nbconvert_exporter": "python",
   "pygments_lexer": "ipython3",
   "version": "3.13.4"
  }
 },
 "nbformat": 4,
 "nbformat_minor": 5
}
