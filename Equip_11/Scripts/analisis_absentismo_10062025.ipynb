{
 "cells": [
  {
   "cell_type": "code",
   "execution_count": 10,
   "id": "71b15b0b",
   "metadata": {},
   "outputs": [],
   "source": [
    "import numpy as np                  \n",
    "import pandas as pd                \n",
    "import matplotlib.pyplot as plt    \n",
    "import seaborn as sns\n",
    "import mysql.connector\n",
    "from mysql.connector import Error"
   ]
  },
  {
   "cell_type": "markdown",
   "id": "1272890a",
   "metadata": {},
   "source": [
    "### Programa para crear DF a partir de BBDD de MySQL"
   ]
  },
  {
   "cell_type": "code",
   "execution_count": 11,
   "id": "ba519abf",
   "metadata": {},
   "outputs": [],
   "source": [
    "def cargar_tablas_a_dataframes(host, database, user, password):\n",
    "    \"\"\"\n",
    "    Se conecta a una base de datos MySQL y carga todas las tablas como DataFrames de Pandas\n",
    "    con nombres dinámicos en el entorno global (ej. df_nombreTabla).\n",
    "    \"\"\"\n",
    "    try:\n",
    "        connection = mysql.connector.connect(\n",
    "            host=host,\n",
    "            database=database,\n",
    "            user=user,\n",
    "            password=password\n",
    "        )\n",
    "\n",
    "        if connection.is_connected():\n",
    "            cursor = connection.cursor()  # Creación de un cursor para ejecutar consultas SQL\n",
    "            cursor.execute(\"SHOW TABLES\")  # Se ejecuta la consulta \"SHOW TABLES\" para listar las tablas\n",
    "\n",
    "            tablas = [tabla[0] for tabla in cursor.fetchall()]  # Se obtienen los nombres de las tablas\n",
    "\n",
    "            for tabla in tablas:\n",
    "                cursor.execute(f\"SELECT * FROM {tabla}\")  # Se extraen los datos de cada tabla\n",
    "                columnas = [columna[0] for columna in cursor.description]  # Nombres de columnas\n",
    "                globals()[f'df_{tabla}'] = pd.DataFrame(cursor.fetchall(), columns=columnas)  # DataFrame dinámico\n",
    "                print(f'df_{tabla}')  # Mostrar el nombre del DataFrame creado\n",
    "\n",
    "    except Error as e:\n",
    "        print(\"Error while connecting to MySQL:\", e)  # Manejo de errores\n",
    "\n",
    "    finally:\n",
    "        if 'connection' in locals() and connection.is_connected():\n",
    "            cursor.close()  # Cierra el cursor\n",
    "            connection.close()  # Cierra la conexión\n",
    "            print(\"MySQL connection is closed\")  # Mensaje de cierre"
   ]
  },
  {
   "cell_type": "markdown",
   "id": "ce143f81",
   "metadata": {},
   "source": [
    "### Llamar a la funcion para crear el DF"
   ]
  },
  {
   "cell_type": "code",
   "execution_count": 12,
   "id": "ce03ea66",
   "metadata": {},
   "outputs": [
    {
     "name": "stdout",
     "output_type": "stream",
     "text": [
      "df_RRHH\n",
      "MySQL connection is closed\n"
     ]
    }
   ],
   "source": [
    "cargar_tablas_a_dataframes('212.227.90.6', 'Equip_11', 'Equipo11', 'E1q2u3i4p5o11')"
   ]
  },
  {
   "cell_type": "markdown",
   "id": "2ef35fa0",
   "metadata": {},
   "source": [
    "### Codigo para que se vean todas las columnas"
   ]
  },
  {
   "cell_type": "code",
   "execution_count": 13,
   "id": "b9346a94",
   "metadata": {},
   "outputs": [],
   "source": [
    "# Muestra todas las columnas\n",
    "pd.set_option('display.max_columns', None)\n",
    "\n",
    "# Opcional: muestra todo el ancho (evita recortes por pantalla estrecha)\n",
    "pd.set_option('display.width', None)\n",
    "\n",
    "# Opcional: ajusta el ancho máximo de cada columna si es muy largo\n",
    "pd.set_option('display.max_colwidth', None)"
   ]
  },
  {
   "cell_type": "markdown",
   "id": "095866b8",
   "metadata": {},
   "source": [
    "### Crear DF filtrando los que tengan 0 horas de absentismo"
   ]
  },
  {
   "cell_type": "code",
   "execution_count": 14,
   "id": "574c952f",
   "metadata": {},
   "outputs": [],
   "source": [
    "df_absentismo = df_RRHH[df_RRHH['Absenteeism_hours'] > 0]"
   ]
  },
  {
   "cell_type": "markdown",
   "id": "45b0eb33",
   "metadata": {},
   "source": [
    "### Ver tabla"
   ]
  },
  {
   "cell_type": "code",
   "execution_count": 20,
   "id": "1d8bedbd",
   "metadata": {},
   "outputs": [
    {
     "data": {
      "text/html": [
       "<div>\n",
       "<style scoped>\n",
       "    .dataframe tbody tr th:only-of-type {\n",
       "        vertical-align: middle;\n",
       "    }\n",
       "\n",
       "    .dataframe tbody tr th {\n",
       "        vertical-align: top;\n",
       "    }\n",
       "\n",
       "    .dataframe thead th {\n",
       "        text-align: right;\n",
       "    }\n",
       "</style>\n",
       "<table border=\"1\" class=\"dataframe\">\n",
       "  <thead>\n",
       "    <tr style=\"text-align: right;\">\n",
       "      <th></th>\n",
       "      <th>ID</th>\n",
       "      <th>Reason_absence</th>\n",
       "      <th>Month_absence</th>\n",
       "      <th>Day_week</th>\n",
       "      <th>Seasons</th>\n",
       "      <th>Transportation_expense</th>\n",
       "      <th>Distance_Residence_Work</th>\n",
       "      <th>Service_time</th>\n",
       "      <th>Age</th>\n",
       "      <th>Work_load_Average_day</th>\n",
       "      <th>Hit_target</th>\n",
       "      <th>Disciplinary_failure</th>\n",
       "      <th>Education</th>\n",
       "      <th>Son</th>\n",
       "      <th>Social_drinker</th>\n",
       "      <th>Social_smoker</th>\n",
       "      <th>Pet</th>\n",
       "      <th>Weight</th>\n",
       "      <th>Height</th>\n",
       "      <th>Body_mass_index</th>\n",
       "      <th>Absenteeism_hours</th>\n",
       "      <th>Mes_nombre</th>\n",
       "      <th>Estacion_nombre</th>\n",
       "    </tr>\n",
       "  </thead>\n",
       "  <tbody>\n",
       "    <tr>\n",
       "      <th>0</th>\n",
       "      <td>14</td>\n",
       "      <td>11</td>\n",
       "      <td>11</td>\n",
       "      <td>2</td>\n",
       "      <td>2</td>\n",
       "      <td>155</td>\n",
       "      <td>12</td>\n",
       "      <td>14</td>\n",
       "      <td>34</td>\n",
       "      <td>284,031</td>\n",
       "      <td>97</td>\n",
       "      <td>0</td>\n",
       "      <td>1</td>\n",
       "      <td>2</td>\n",
       "      <td>1</td>\n",
       "      <td>0</td>\n",
       "      <td>0</td>\n",
       "      <td>95</td>\n",
       "      <td>196</td>\n",
       "      <td>25</td>\n",
       "      <td>120</td>\n",
       "      <td>noviembre</td>\n",
       "      <td>otoño</td>\n",
       "    </tr>\n",
       "    <tr>\n",
       "      <th>1</th>\n",
       "      <td>36</td>\n",
       "      <td>13</td>\n",
       "      <td>4</td>\n",
       "      <td>4</td>\n",
       "      <td>4</td>\n",
       "      <td>118</td>\n",
       "      <td>13</td>\n",
       "      <td>18</td>\n",
       "      <td>50</td>\n",
       "      <td>239,409</td>\n",
       "      <td>98</td>\n",
       "      <td>0</td>\n",
       "      <td>1</td>\n",
       "      <td>1</td>\n",
       "      <td>1</td>\n",
       "      <td>0</td>\n",
       "      <td>0</td>\n",
       "      <td>98</td>\n",
       "      <td>178</td>\n",
       "      <td>31</td>\n",
       "      <td>120</td>\n",
       "      <td>abril</td>\n",
       "      <td>primavera</td>\n",
       "    </tr>\n",
       "    <tr>\n",
       "      <th>2</th>\n",
       "      <td>9</td>\n",
       "      <td>6</td>\n",
       "      <td>7</td>\n",
       "      <td>3</td>\n",
       "      <td>1</td>\n",
       "      <td>228</td>\n",
       "      <td>14</td>\n",
       "      <td>16</td>\n",
       "      <td>58</td>\n",
       "      <td>264,604</td>\n",
       "      <td>93</td>\n",
       "      <td>0</td>\n",
       "      <td>1</td>\n",
       "      <td>2</td>\n",
       "      <td>0</td>\n",
       "      <td>0</td>\n",
       "      <td>1</td>\n",
       "      <td>65</td>\n",
       "      <td>172</td>\n",
       "      <td>22</td>\n",
       "      <td>120</td>\n",
       "      <td>julio</td>\n",
       "      <td>verano</td>\n",
       "    </tr>\n",
       "    <tr>\n",
       "      <th>3</th>\n",
       "      <td>28</td>\n",
       "      <td>9</td>\n",
       "      <td>7</td>\n",
       "      <td>3</td>\n",
       "      <td>1</td>\n",
       "      <td>225</td>\n",
       "      <td>26</td>\n",
       "      <td>9</td>\n",
       "      <td>28</td>\n",
       "      <td>230,290</td>\n",
       "      <td>92</td>\n",
       "      <td>0</td>\n",
       "      <td>1</td>\n",
       "      <td>1</td>\n",
       "      <td>0</td>\n",
       "      <td>0</td>\n",
       "      <td>2</td>\n",
       "      <td>69</td>\n",
       "      <td>169</td>\n",
       "      <td>24</td>\n",
       "      <td>112</td>\n",
       "      <td>julio</td>\n",
       "      <td>verano</td>\n",
       "    </tr>\n",
       "    <tr>\n",
       "      <th>4</th>\n",
       "      <td>9</td>\n",
       "      <td>12</td>\n",
       "      <td>3</td>\n",
       "      <td>3</td>\n",
       "      <td>4</td>\n",
       "      <td>228</td>\n",
       "      <td>14</td>\n",
       "      <td>16</td>\n",
       "      <td>58</td>\n",
       "      <td>222,196</td>\n",
       "      <td>99</td>\n",
       "      <td>0</td>\n",
       "      <td>1</td>\n",
       "      <td>2</td>\n",
       "      <td>0</td>\n",
       "      <td>0</td>\n",
       "      <td>1</td>\n",
       "      <td>65</td>\n",
       "      <td>172</td>\n",
       "      <td>22</td>\n",
       "      <td>112</td>\n",
       "      <td>marzo</td>\n",
       "      <td>primavera</td>\n",
       "    </tr>\n",
       "  </tbody>\n",
       "</table>\n",
       "</div>"
      ],
      "text/plain": [
       "   ID  Reason_absence  Month_absence  Day_week  Seasons  \\\n",
       "0  14              11             11         2        2   \n",
       "1  36              13              4         4        4   \n",
       "2   9               6              7         3        1   \n",
       "3  28               9              7         3        1   \n",
       "4   9              12              3         3        4   \n",
       "\n",
       "   Transportation_expense  Distance_Residence_Work  Service_time  Age  \\\n",
       "0                     155                       12            14   34   \n",
       "1                     118                       13            18   50   \n",
       "2                     228                       14            16   58   \n",
       "3                     225                       26             9   28   \n",
       "4                     228                       14            16   58   \n",
       "\n",
       "  Work_load_Average_day  Hit_target Disciplinary_failure Education  Son  \\\n",
       "0               284,031          97                    0         1    2   \n",
       "1               239,409          98                    0         1    1   \n",
       "2               264,604          93                    0         1    2   \n",
       "3               230,290          92                    0         1    1   \n",
       "4               222,196          99                    0         1    2   \n",
       "\n",
       "  Social_drinker Social_smoker Pet  Weight  Height  Body_mass_index  \\\n",
       "0              1             0   0      95     196               25   \n",
       "1              1             0   0      98     178               31   \n",
       "2              0             0   1      65     172               22   \n",
       "3              0             0   2      69     169               24   \n",
       "4              0             0   1      65     172               22   \n",
       "\n",
       "   Absenteeism_hours Mes_nombre Estacion_nombre  \n",
       "0                120  noviembre           otoño  \n",
       "1                120      abril       primavera  \n",
       "2                120      julio          verano  \n",
       "3                112      julio          verano  \n",
       "4                112      marzo       primavera  "
      ]
     },
     "execution_count": 20,
     "metadata": {},
     "output_type": "execute_result"
    }
   ],
   "source": [
    "df_absentismo.head()"
   ]
  },
  {
   "cell_type": "markdown",
   "id": "7652f0f0",
   "metadata": {},
   "source": [
    "### Crear un diccionario para convertir el numero del mes a nombre"
   ]
  },
  {
   "cell_type": "code",
   "execution_count": 19,
   "id": "3a48137e",
   "metadata": {},
   "outputs": [],
   "source": [
    "meses = {\n",
    "    1: 'enero', 2: 'febrero', 3: 'marzo', 4: 'abril',\n",
    "    5: 'mayo', 6: 'junio', 7: 'julio', 8: 'agosto',\n",
    "    9: 'septiembre', 10: 'octubre', 11: 'noviembre', 12: 'diciembre'\n",
    "}"
   ]
  },
  {
   "cell_type": "markdown",
   "id": "33fc89de",
   "metadata": {},
   "source": [
    "### Hacer grafico de absentismo por horas/mes"
   ]
  },
  {
   "cell_type": "code",
   "execution_count": 16,
   "id": "def3c194",
   "metadata": {},
   "outputs": [
    {
     "name": "stderr",
     "output_type": "stream",
     "text": [
      "C:\\Users\\santy\\AppData\\Local\\Temp\\ipykernel_39816\\551390814.py:1: SettingWithCopyWarning: \n",
      "A value is trying to be set on a copy of a slice from a DataFrame.\n",
      "Try using .loc[row_indexer,col_indexer] = value instead\n",
      "\n",
      "See the caveats in the documentation: https://pandas.pydata.org/pandas-docs/stable/user_guide/indexing.html#returning-a-view-versus-a-copy\n",
      "  df_absentismo['Mes_nombre'] = df_absentismo['Month_absence'].map(meses)\n"
     ]
    },
    {
     "data": {
      "image/png": "[encoded data removed]",
      "text/plain": [
       "<Figure size 1000x600 with 1 Axes>"
      ]
     },
     "metadata": {},
     "output_type": "display_data"
    }
   ],
   "source": [
    "df_absentismo['Mes_nombre'] = df_absentismo['Month_absence'].map(meses)\n",
    "\n",
    "df_horas_mes = df_absentismo.groupby('Mes_nombre')['Absenteeism_hours'].sum().reindex(meses.values())\n",
    "\n",
    "df_horas_mes.plot(kind='bar', color='skyblue', figsize=(10, 6))\n",
    "plt.title('Horas de absentismo por mes')\n",
    "plt.xlabel('Mes')\n",
    "plt.ylabel('Horas de absentismo')\n",
    "plt.xticks(rotation=45)\n",
    "plt.tight_layout()\n",
    "plt.show()"
   ]
  },
  {
   "cell_type": "markdown",
   "id": "c5e3f5f7",
   "metadata": {},
   "source": [
    "### Crear un diccionario para convertir el numero de la estacion a nombre"
   ]
  },
  {
   "cell_type": "code",
   "execution_count": 17,
   "id": "29f731ab",
   "metadata": {},
   "outputs": [],
   "source": [
    "estaciones = {\n",
    "    1: 'verano',\n",
    "    2: 'otoño',\n",
    "    3: 'invierno',\n",
    "    4: 'primavera'\n",
    "}"
   ]
  },
  {
   "cell_type": "markdown",
   "id": "2a68cfa8",
   "metadata": {},
   "source": [
    "### Hacer grafico de absentismo por horas/mes"
   ]
  },
  {
   "cell_type": "code",
   "execution_count": 18,
   "id": "660e28af",
   "metadata": {},
   "outputs": [
    {
     "name": "stderr",
     "output_type": "stream",
     "text": [
      "C:\\Users\\santy\\AppData\\Local\\Temp\\ipykernel_39816\\1121388322.py:1: SettingWithCopyWarning: \n",
      "A value is trying to be set on a copy of a slice from a DataFrame.\n",
      "Try using .loc[row_indexer,col_indexer] = value instead\n",
      "\n",
      "See the caveats in the documentation: https://pandas.pydata.org/pandas-docs/stable/user_guide/indexing.html#returning-a-view-versus-a-copy\n",
      "  df_absentismo['Estacion_nombre'] = df_absentismo['Seasons'].map(estaciones)\n"
     ]
    },
    {
     "data": {
      "image/png": "[encoded data removed]",
      "text/plain": [
       "<Figure size 800x600 with 1 Axes>"
      ]
     },
     "metadata": {},
     "output_type": "display_data"
    }
   ],
   "source": [
    "df_absentismo['Estacion_nombre'] = df_absentismo['Seasons'].map(estaciones)\n",
    "\n",
    "df_horas_estacion = df_absentismo.groupby('Estacion_nombre')['Absenteeism_hours'].sum().reindex(['invierno', 'primavera', 'verano', 'otoño'])\n",
    "\n",
    "df_horas_estacion.plot(kind='bar', color='skyblue', figsize=(8, 6))\n",
    "plt.title('Horas de absentismo por estación')\n",
    "plt.xlabel('Estación')\n",
    "plt.ylabel('Horas de absentismo')\n",
    "plt.xticks(rotation=45)\n",
    "plt.tight_layout()\n",
    "plt.show()"
   ]
  }
 ],
 "metadata": {
  "kernelspec": {
   "display_name": "Python 3",
   "language": "python",
   "name": "python3"
  },
  "language_info": {
   "codemirror_mode": {
    "name": "ipython",
    "version": 3
   },
   "file_extension": ".py",
   "mimetype": "text/x-python",
   "name": "python",
   "nbconvert_exporter": "python",
   "pygments_lexer": "ipython3",
   "version": "3.13.2"
  }
 },
 "nbformat": 4,
 "nbformat_minor": 5
}
